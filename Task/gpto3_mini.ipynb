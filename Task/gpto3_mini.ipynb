{
 "cells": [
  {
   "cell_type": "code",
   "execution_count": null,
   "metadata": {},
   "outputs": [],
   "source": [
    "import os\n",
    "import re\n",
    "import json\n",
    "import time\n",
    "\n",
    "import pandas as pd\n",
    "from dotenv import load_dotenv\n",
    "from openai import OpenAI"
   ]
  },
  {
   "cell_type": "markdown",
   "metadata": {},
   "source": [
    "## Load Dataset"
   ]
  },
  {
   "cell_type": "code",
   "execution_count": null,
   "metadata": {},
   "outputs": [],
   "source": [
    "def load_data(file_path: str) -> list:\n",
    "    \"\"\"\n",
    "    Load dataset from a JSON file.\n",
    "\n",
    "    Args:\n",
    "        file_path (str): Path to the dataset JSON file.\n",
    "\n",
    "    Returns:\n",
    "        list: Loaded dataset as a list of dictionaries.\n",
    "    \"\"\"\n",
    "    with open(file_path, \"r\", encoding=\"utf-8\") as f:\n",
    "        return json.load(f)\n",
    "\n",
    "# File path\n",
    "DATA_FILE = \" \"\n",
    "\n",
    "# Load dataset\n",
    "data = load_data(DATA_FILE)\n",
    "print(f\"Dataset Loaded: {len(data)} samples.\")"
   ]
  },
  {
   "cell_type": "markdown",
   "metadata": {},
   "source": [
    "## Load API Key & Initialize Client"
   ]
  },
  {
   "cell_type": "code",
   "execution_count": null,
   "metadata": {},
   "outputs": [],
   "source": [
    "load_dotenv()\n",
    "api_key = os.getenv(\"OPENAI_API_KEY\")\n",
    "client = OpenAI(api_key=api_key)\n",
    "print(\"API Key Loaded and Client Initialized.\")"
   ]
  },
  {
   "cell_type": "markdown",
   "metadata": {},
   "source": [
    "## Load Prompts"
   ]
  },
  {
   "cell_type": "code",
   "execution_count": null,
   "metadata": {},
   "outputs": [],
   "source": [
    "def load_prompts(file_path: str, category: str) -> dict:\n",
    "    \"\"\"\n",
    "    Load prompts for a specific category from a JSON file.\n",
    "\n",
    "    Args:\n",
    "        file_path (str): Path to the prompts JSON file.\n",
    "        category (str): The category key (e.g., 'eng_abbreviations', 'kor_abbreviations').\n",
    "\n",
    "    Returns:\n",
    "        dict: Dictionary containing different prompt templates.\n",
    "    \"\"\"\n",
    "    with open(file_path, \"r\", encoding=\"utf-8\") as file:\n",
    "        prompt_data = json.load(file)\n",
    "\n",
    "    return prompt_data.get(category, {})\n",
    "\n",
    "# File path and category for prompts\n",
    "PROMPT_FILE = \" \"  \n",
    "CATEGORY = \" \"  \n",
    "\n",
    "# Load prompts\n",
    "prompts = load_prompts(PROMPT_FILE, CATEGORY)\n",
    "print(f\"Loaded prompts for category '{CATEGORY}': {list(prompts.keys())}\")"
   ]
  },
  {
   "cell_type": "markdown",
   "metadata": {},
   "source": [
    "## Send Requests to API"
   ]
  },
  {
   "cell_type": "code",
   "execution_count": null,
   "metadata": {},
   "outputs": [],
   "source": [
    "# Call O3-Mini API\n",
    "def call_o3_mini(prompt, max_retries=3):\n",
    "    \"\"\"\n",
    "    Calls the O3-Mini API with the given prompt.\n",
    "\n",
    "    Args:\n",
    "        prompt (str): Input text to send to the API.\n",
    "        max_retries (int): Number of retries in case of failure.\n",
    "\n",
    "    Returns:\n",
    "        str: API response text.\n",
    "    \"\"\"\n",
    "    for attempt in range(max_retries):\n",
    "        try:\n",
    "            response = client.chat.completions.create(\n",
    "                model=\"o3-mini\",\n",
    "                messages=[\n",
    "                    {\"role\": \"system\", \"content\": \"You are a helpful assistant.\"},\n",
    "                    {\"role\": \"user\", \"content\": prompt}\n",
    "                ],\n",
    "                temperature=1.0,\n",
    "                reasoning_effort=\"high\"\n",
    "            )\n",
    "\n",
    "            return response.choices[0].message.content.strip()\n",
    "\n",
    "        except Exception as e:\n",
    "            if attempt < max_retries - 1:\n",
    "                print(f\"Error on attempt {attempt + 1}: {e}. Retrying...\")\n",
    "                time.sleep(5)  # Retry after a short delay\n",
    "            else:\n",
    "                print(f\"Final attempt failed: {e}\")\n",
    "                return \"Error\""
   ]
  },
  {
   "cell_type": "markdown",
   "metadata": {},
   "source": [
    "## Extract Answer from Response"
   ]
  },
  {
   "cell_type": "code",
   "execution_count": null,
   "metadata": {},
   "outputs": [],
   "source": [
    "def extract_answer(response_text: str, category: str) -> str:\n",
    "    \"\"\"\n",
    "    Extracts the answer from response text based on the category prefix.\n",
    "\n",
    "    Args:\n",
    "        response_text (str): Full response text from Gemini API.\n",
    "        category (str): Prompt category (e.g., \"eng_abbreviations\" or \"kor_abbreviations\").\n",
    "\n",
    "    Returns:\n",
    "        str: Extracted answer or full response if no match is found.\n",
    "    \"\"\"\n",
    "    if category.startswith(\"eng_\"):\n",
    "        match = re.search(r\"Answer:\\s*(.*)\", response_text)\n",
    "    else:\n",
    "        match = re.search(r\"답변:\\s*(.*)\", response_text)\n",
    "\n",
    "    return match.group(1).strip() if match else response_text  # Extracted answer or full response"
   ]
  },
  {
   "cell_type": "markdown",
   "metadata": {},
   "source": [
    "## Save Processed Results"
   ]
  },
  {
   "cell_type": "code",
   "execution_count": null,
   "metadata": {},
   "outputs": [],
   "source": [
    "def save_results(results: list, filename: str):\n",
    "    \"\"\"\n",
    "    Save processed results into a JSON file.\n",
    "\n",
    "    Args:\n",
    "        results (list): List of dictionaries containing 'word' and 'response'.\n",
    "        filename (str): Path to save the JSON file.\n",
    "    \"\"\"\n",
    "    os.makedirs(os.path.dirname(filename), exist_ok=True)\n",
    "\n",
    "    with open(filename, \"w\", encoding=\"utf-8\") as file:\n",
    "        json.dump(results, file, ensure_ascii=False, indent=4)\n",
    "\n",
    "    print(f\"Results saved: {filename}\")"
   ]
  },
  {
   "cell_type": "markdown",
   "metadata": {},
   "source": [
    "## Execute API Calls and Store Results"
   ]
  },
  {
   "cell_type": "code",
   "execution_count": null,
   "metadata": {},
   "outputs": [],
   "source": [
    "# Directory to save results\n",
    "RESULTS_DIR = \"results\"\n",
    "CHECKPOINT_DIR = \"checkpoint\"\n",
    "\n",
    "# Ensure checkpoint directory exists\n",
    "os.makedirs(CHECKPOINT_DIR, exist_ok=True)\n",
    "\n",
    "for prompt_type, prompt_text in prompts.items():\n",
    "    results = []\n",
    "    progress_file = os.path.join(CHECKPOINT_DIR, f\"{prompt_type}_progress.txt\")\n",
    "\n",
    "    # Load progress checkpoint\n",
    "    try:\n",
    "        with open(progress_file, \"r\") as f:\n",
    "            start_index = int(f.read().strip())\n",
    "    except FileNotFoundError:\n",
    "        start_index = 0\n",
    "\n",
    "    print(f\"Processing {prompt_type} (Starting from index {start_index})...\")\n",
    "\n",
    "    for idx in range(start_index, len(data)):  \n",
    "        input_word = data[idx][\"transformed\"]  \n",
    "        prompt = f\"{input_word}\\n{prompt_text}\"\n",
    "        response_text = call_o3_mini(prompt)\n",
    "\n",
    "        if response_text == \"Error\":\n",
    "            print(f\"Error processing {input_word} at index {idx}. Skipping...\")\n",
    "            continue\n",
    "\n",
    "        # Extract Answer\n",
    "        extracted_answer = extract_answer(response_text, CATEGORY)\n",
    "\n",
    "        results.append({\n",
    "            \"word\": input_word,    \n",
    "            \"response\": response_text,  \n",
    "            \"answer\": extracted_answer\n",
    "        })\n",
    "\n",
    "        # Save progress checkpoint\n",
    "        with open(progress_file, \"w\") as f:\n",
    "            f.write(str(idx + 1))\n",
    "\n",
    "    # Save results\n",
    "    output_filename = os.path.join(RESULTS_DIR, f\"{prompt_type}_results.json\")\n",
    "    save_results(results, output_filename)\n",
    "\n",
    "print(\"All Processing Completed Successfully!\")"
   ]
  }
 ],
 "metadata": {
  "language_info": {
   "name": "python"
  }
 },
 "nbformat": 4,
 "nbformat_minor": 2
}
